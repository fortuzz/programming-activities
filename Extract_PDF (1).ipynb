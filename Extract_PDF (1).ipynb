{
  "nbformat": 4,
  "nbformat_minor": 0,
  "metadata": {
    "colab": {
      "provenance": []
    },
    "kernelspec": {
      "name": "python3",
      "display_name": "Python 3"
    },
    "language_info": {
      "name": "python"
    }
  },
  "cells": [
    {
      "cell_type": "code",
      "execution_count": 15,
      "metadata": {
        "colab": {
          "base_uri": "https://localhost:8080/"
        },
        "id": "Cl51O_jiwb5x",
        "outputId": "bafe6052-e76d-4f7d-8bbb-8dad9ad1c3a2"
      },
      "outputs": [
        {
          "output_type": "stream",
          "name": "stdout",
          "text": [
            "Requirement already satisfied: PyPDF2 in /usr/local/lib/python3.10/dist-packages (3.0.1)\n"
          ]
        }
      ],
      "source": [
        "! pip install PyPDF2"
      ]
    },
    {
      "cell_type": "code",
      "source": [
        "import PyPDF2"
      ],
      "metadata": {
        "id": "xg15ZImJwnkC"
      },
      "execution_count": 16,
      "outputs": []
    },
    {
      "cell_type": "code",
      "source": [
        "with open('/content/sample_data/output.pdf', 'rb') as pdf:\n",
        "  reader = PyPDF2.PdfReader(pdf, strict=False)\n",
        "\n",
        "  pdf_text = []\n",
        "\n",
        "  print( len(reader.pages) )\n",
        "\n",
        "  for page in reader.pages:\n",
        "    content = page.extract_text()\n",
        "    pdf_text.append(content)\n",
        "\n",
        "for text in pdf_text:\n",
        "  print(text)"
      ],
      "metadata": {
        "colab": {
          "base_uri": "https://localhost:8080/"
        },
        "id": "AznLlqByyZg5",
        "outputId": "665c0895-dd9e-4f0e-ac8a-720e80f08531"
      },
      "execution_count": 22,
      "outputs": [
        {
          "output_type": "stream",
          "name": "stdout",
          "text": [
            "1\n",
            "Curtin University is a trademark of Curtin University of Technology\n",
            "CRICOS Provider Code 00301J\n",
            "ISYSS2001 – Managing CodeI acknowledge the traditional custodians of \n",
            "the land on which I work and live, and \n",
            "recognise their continuing connection to land, \n",
            "water and community. I pay respect to elders \n",
            "past, present and emerging.\n"
          ]
        }
      ]
    },
    {
      "cell_type": "code",
      "source": [
        "from PyPDF2 import PdfReader"
      ],
      "metadata": {
        "id": "m-JHGeBL7H7B"
      },
      "execution_count": 23,
      "outputs": []
    },
    {
      "cell_type": "code",
      "source": [
        "reader = PdfReader(\"/content/sample_data/ebook_sample.pdf\")\n",
        "number_of_pages = len(reader.pages)\n",
        "page = reader.pages[2]\n",
        "text = page.extract_text()"
      ],
      "metadata": {
        "id": "oyZnOo7I7H_c"
      },
      "execution_count": 24,
      "outputs": []
    },
    {
      "cell_type": "code",
      "source": [
        "print(\"Number of pages\", number_of_pages)\n",
        "print(text)"
      ],
      "metadata": {
        "colab": {
          "base_uri": "https://localhost:8080/"
        },
        "id": "ZcXrxD3Y7IC1",
        "outputId": "a358c39a-d5d9-43aa-ed9f-d3da043af632"
      },
      "execution_count": 25,
      "outputs": [
        {
          "output_type": "stream",
          "name": "stdout",
          "text": [
            "Number of pages 14\n",
            "        International Sales\n",
            "         international@pearsoned.com\n"
          ]
        }
      ]
    },
    {
      "cell_type": "code",
      "source": [
        "from PyPDF2 import PdfReader"
      ],
      "metadata": {
        "id": "pyDMWxHW7IGR"
      },
      "execution_count": 26,
      "outputs": []
    },
    {
      "cell_type": "code",
      "source": [
        "reader = PdfReader(\"/content/sample_data/ebook_sample.pdf\")\n",
        "number_of_pages = len(reader.pages)\n",
        "page = reader.pages[2]\n",
        "text = page.extract_text()"
      ],
      "metadata": {
        "id": "hdPWeTCg825Y"
      },
      "execution_count": 27,
      "outputs": []
    },
    {
      "cell_type": "code",
      "source": [
        "print(\"Number of pages\", number_of_pages)\n",
        "print(text)"
      ],
      "metadata": {
        "colab": {
          "base_uri": "https://localhost:8080/"
        },
        "id": "qoFvctxT8270",
        "outputId": "99808316-4b19-4364-adf1-c831c63d7ece"
      },
      "execution_count": 28,
      "outputs": [
        {
          "output_type": "stream",
          "name": "stdout",
          "text": [
            "Number of pages 14\n",
            "        International Sales\n",
            "         international@pearsoned.com\n"
          ]
        }
      ]
    },
    {
      "cell_type": "code",
      "source": [
        "try:\n",
        "    with open(\"from_pdf.txt\", 'w') as f:\n",
        "\n",
        "        reader = PdfReader(\"/content/sample_data/ebook_sample.pdf\")\n",
        "        number_of_pages = len(reader.pages)\n",
        "\n",
        "        for p_index in range(number_of_pages):\n",
        "            page = reader.pages[p_index]\n",
        "            text = page.extract_text()\n",
        "\n",
        "            f.write(\"Page {0}\\n\".format(p_index+1))\n",
        "            f.write(text)\n",
        "            f.write(\"\\n\\n\\n\\n\\n\\n\\n\")\n",
        "\n",
        "except:\n",
        "\n",
        "    print(\"Some errors occured in the processs..\")\n",
        "\n",
        "else:\n",
        "    print(\"Number of pages\", number_of_pages)"
      ],
      "metadata": {
        "colab": {
          "base_uri": "https://localhost:8080/"
        },
        "id": "taq5sBIa82_N",
        "outputId": "5f0176a8-6eb9-4a30-806d-7265dc94f171"
      },
      "execution_count": 30,
      "outputs": [
        {
          "output_type": "stream",
          "name": "stdout",
          "text": [
            "Number of pages 14\n"
          ]
        }
      ]
    }
  ]
}