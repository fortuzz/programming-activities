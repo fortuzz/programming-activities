{
 "cells": [
  {
   "cell_type": "markdown",
   "metadata": {
    "id": "kF8ldRydTDPx"
   },
   "source": [
    "# Payslip\n",
    "\n",
    "A payslip is a document that shows their total wages earned for a set period. \n",
    "This might be from a salary, hourly wages or commission. Payslips are also know as\n",
    "‘pay advice’.  Traditionally the payslip was a paper document attached. Today\n",
    "most organisations provide them electronically.\n",
    "\n",
    "## Task 0 - Import into GitHub\n",
    "First, import the notebook into Colab and save an initial copy to GitHub.\n",
    "\n",
    "## Task 1 - Start Simple\n",
    "\n",
    "Writing complete robust programs can take time.  Often the more we understand a \n",
    "problem the easier it is to implement the solution.   One approach is to \n",
    "implement the simplest version of a program and then slowly add functionality.\n",
    "\n",
    "The aim of this notebook is to start simple and slowly build up the program.\n",
    "The approach we take below is one way to understand a problem, step 1 of our\n",
    "development process. For complex projects, they often follow a similar idea\n",
    "where they implement a minimal program, and each week or month have intense \n",
    "periods were the team adds functionality.  These advanced methodologies are \n",
    "beyond the scope of an introductory programming course but start small and \n",
    "slowly add functionality we do capture the essence of the process.\n",
    "\n",
    "\n",
    "### The Initial (minimal) Program\n",
    "\n",
    "Consider 'Ram' who has a salary of \\$25000.  They have sold goods worth $20000 \n",
    "and earns 2% commission on the sales. They fall into the 10% tax bracket. We \n",
    "will talk about tax-brackets in another notebook. Before making payments the\n",
    "organisation needs to deduct 10% tax.\n",
    "\n",
    "We need to program to print out a payslip for sales people.  Our payslip\n",
    "is very simple, we need a title, the amount of salary, the amount of commission, \n",
    "the amount of tax, and the total pay.\n",
    "\n",
    "Run the following program for one person."
   ]
  },
  {
   "cell_type": "code",
   "execution_count": 3,
   "metadata": {
    "colab": {
     "base_uri": "https://localhost:8080/"
    },
    "id": "2UenEHfcTuLz",
    "outputId": "7e9ec9ab-f5d9-4b0b-f5e5-bfa5d2a605ce"
   },
   "outputs": [
    {
     "name": "stdout",
     "output_type": "stream",
     "text": [
      "Payslip of Ram\n",
      "Salary 25000 Commission 400.0 Tax 2540.0\n",
      "Total pay 22860.0\n"
     ]
    }
   ],
   "source": [
    "salary = 25000\n",
    "sales = 20000\n",
    "commission = 0.02 * sales\n",
    "tax = (salary + commission) * 0.10\n",
    "pay = salary + commission - tax\n",
    "print('Payslip of Ram')\n",
    "print('Salary', salary,'Commission',commission,'Tax', tax)\n",
    "print('Total pay',pay)"
   ]
  },
  {
   "cell_type": "code",
   "execution_count": 1,
   "metadata": {},
   "outputs": [
    {
     "name": "stdout",
     "output_type": "stream",
     "text": [
      "Payslip of Ram\n",
      "Salary 25000 Commission 400.0 Tax 2540.0\n",
      "Total pay 22860.0\n"
     ]
    }
   ],
   "source": [
    "salary = 25000\n",
    "sales = 20000\n",
    "commission = 0.02 * sales\n",
    "tax = (salary + commission) * 0.10\n",
    "pay = salary + commission - tax\n",
    "print('Payslip of Ram')\n",
    "print('Salary', salary,'Commission',commission,'Tax', tax)\n",
    "print('Total pay',pay)"
   ]
  },
  {
   "cell_type": "markdown",
   "metadata": {
    "id": "QzcJGzRBUDz2"
   },
   "source": [
    "Now, consider 'Radha' who has a salary of \\$30000.  They have sold goods worth $40000 and earns 2.5% commision on the sales. They fall into the 10% tax bracket and so before making payments we need to deduct 10% form his total payout."
   ]
  },
  {
   "cell_type": "code",
   "execution_count": 2,
   "metadata": {
    "id": "wFmuD9ujUgDW"
   },
   "outputs": [
    {
     "name": "stdout",
     "output_type": "stream",
     "text": [
      "Radha's total payout after taxes: $ 27900.0\n"
     ]
    }
   ],
   "source": [
    "\n",
    "salary = 30000\n",
    "sales = 40000\n",
    "commission_rate = 0.025\n",
    "tax_rate = 0.10  \n",
    "\n",
    "total_payout = salary + (sales * commission_rate)\n",
    "\n",
    "tax_deduction = total_payout * tax_rate\n",
    "total_payout_after_tax = total_payout - tax_deduction\n",
    "\n",
    "print(\"Radha's total payout after taxes: $\", total_payout_after_tax)\n"
   ]
  },
  {
   "cell_type": "markdown",
   "metadata": {
    "id": "UFGObxq7UlvE"
   },
   "source": [
    "## Task 2 - Generalise\n",
    "\n",
    "What did we change from Ram to Radha?"
   ]
  },
  {
   "cell_type": "code",
   "execution_count": null,
   "metadata": {
    "id": "zMEi9q1dUr36"
   },
   "outputs": [],
   "source": [
    "Salary changed \n",
    "Commission rates changed\n",
    "Sales changed"
   ]
  },
  {
   "cell_type": "markdown",
   "metadata": {
    "id": "7PrlmDmYV6iX"
   },
   "source": [
    "Make what we changed as inputs (parameters) to a function"
   ]
  },
  {
   "cell_type": "code",
   "execution_count": null,
   "metadata": {},
   "outputs": [],
   "source": []
  },
  {
   "cell_type": "code",
   "execution_count": null,
   "metadata": {},
   "outputs": [],
   "source": []
  }
 ],
 "metadata": {
  "colab": {
   "name": "payslip.ipynb",
   "provenance": []
  },
  "kernelspec": {
   "display_name": "Python 3 (ipykernel)",
   "language": "python",
   "name": "python3"
  },
  "language_info": {
   "codemirror_mode": {
    "name": "ipython",
    "version": 3
   },
   "file_extension": ".py",
   "mimetype": "text/x-python",
   "name": "python",
   "nbconvert_exporter": "python",
   "pygments_lexer": "ipython3",
   "version": "3.11.5"
  }
 },
 "nbformat": 4,
 "nbformat_minor": 1
}
