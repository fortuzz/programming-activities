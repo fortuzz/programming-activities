{
  "nbformat": 4,
  "nbformat_minor": 0,
  "metadata": {
    "colab": {
      "provenance": []
    },
    "kernelspec": {
      "name": "python3",
      "display_name": "Python 3"
    },
    "language_info": {
      "name": "python"
    }
  },
  "cells": [
    {
      "cell_type": "markdown",
      "metadata": {
        "id": "view-in-github"
      },
      "source": [
        "<a href=\"https://colab.research.google.com/github/michael-borck/isys2001-worksheets/blob/main/debugging_isPrime().ipynb\" target=\"_parent\"><img src=\"https://colab.research.google.com/assets/colab-badge.svg\" alt=\"Open In Colab\"/></a>"
      ]
    },
    {
      "cell_type": "markdown",
      "source": [
        "## Debug isPrime()\n",
        "What is your preferred method? Do you like using print() or prefer *pdb*?   Since mistakes in programs will happen, the important part is that you have a debugging strategy, not which tool you use.\n",
        "\n",
        "Here is a function that needs debugging. Using either print() or *pdb*, debug the following function."
      ],
      "metadata": {
        "id": "LIfoDVzKX7uK"
      }
    },
    {
      "cell_type": "code",
      "source": [
        "def isPrime(candidate):\n",
        "    if candidate <= 1:\n",
        "        return False\n",
        "\n",
        "\n",
        "    lower = candidate - 1\n",
        "    while lower > 1:\n",
        "        if candidate / lower == candidate // lower:\n",
        "            return False\n",
        "        lower -= 1\n",
        "\n",
        "    return True\n",
        "\n"
      ],
      "metadata": {
        "id": "YH9gDoOYvKwg"
      },
      "execution_count": 4,
      "outputs": []
    },
    {
      "cell_type": "code",
      "source": [
        "from types import TracebackType\n",
        "def isprime(candidate):\n",
        "\n",
        "    # breakpoint()\n",
        "    import pdb; pdb.set_trace() # basic commands: variable name, candidate\n",
        "\n",
        "    return True"
      ],
      "metadata": {
        "id": "b_x92nr6UOWZ"
      },
      "execution_count": 12,
      "outputs": []
    },
    {
      "cell_type": "code",
      "source": [
        "if candidate\n",
        "print(\"lower-=1\")"
      ],
      "metadata": {
        "colab": {
          "base_uri": "https://localhost:8080/",
          "height": 106
        },
        "id": "FOyXFwQ2VsPY",
        "outputId": "deae77e1-ca38-4c79-c99d-dac9b6c14b2f"
      },
      "execution_count": 16,
      "outputs": [
        {
          "output_type": "error",
          "ename": "SyntaxError",
          "evalue": "expected ':' (<ipython-input-16-0956d3bb8746>, line 1)",
          "traceback": [
            "\u001b[0;36m  File \u001b[0;32m\"<ipython-input-16-0956d3bb8746>\"\u001b[0;36m, line \u001b[0;32m1\u001b[0m\n\u001b[0;31m    if candidate\u001b[0m\n\u001b[0m                 ^\u001b[0m\n\u001b[0;31mSyntaxError\u001b[0m\u001b[0;31m:\u001b[0m expected ':'\n"
          ]
        }
      ]
    }
  ]
}